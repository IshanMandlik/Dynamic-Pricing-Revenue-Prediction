{
 "cells": [
  {
   "cell_type": "code",
   "execution_count": null,
   "metadata": {
    "id": "2zdXNIHnMuuT"
   },
   "outputs": [],
   "source": [
    "import pandas as pd\n",
    "import numpy as np\n",
    "import matplotlib.pyplot as plt\n",
    "import seaborn as sns"
   ]
  },
  {
   "cell_type": "code",
   "execution_count": null,
   "metadata": {
    "colab": {
     "base_uri": "https://localhost:8080/"
    },
    "id": "7KMJRiItaKuZ",
    "outputId": "3dc0b589-2e9b-4972-8675-076912f2d275"
   },
   "outputs": [],
   "source": [
    "from google.colab import drive\n",
    "drive.mount('/content/drive')"
   ]
  },
  {
   "cell_type": "code",
   "execution_count": null,
   "metadata": {
    "colab": {
     "base_uri": "https://localhost:8080/"
    },
    "id": "rhz0ZbbyR5XW",
    "outputId": "99f1b929-7f30-4c0c-90be-f0b18c7159a7"
   },
   "outputs": [],
   "source": [
    "import pandas as pd\n",
    "import numpy as np\n",
    "import matplotlib.pyplot as plt\n",
    "import seaborn as sns\n",
    "import gdown\n",
    "\n",
    "# Download the files from Google Drive using gdown\n",
    "#train_data_url = \"https://drive.google.com/uc?id=1sOPgJu8NM5ftRHfy2iXo_vM7aKllTvRv\"\n",
    "#item_data_url = \"https://drive.google.com/uc?id=1SuHwG29IDqG_qzN7rttJiNXrTM9D6L63\"\n",
    "\n",
    "#train_data_path = 'train_data.csv'  # Specify the path to save the training data\n",
    "#item_data_path = 'item_data.csv'  # Specify the path to save the item data\n",
    "\n",
    "#gdown.download(train_data_url, train_data_path, quiet=False)\n",
    "#gdown.download(item_data_url, item_data_path, quiet=False)\n",
    "\n",
    "# dynamic training data\n",
    "train_data = pd.read_csv(\"/content/drive/MyDrive/data/data/train.csv\", sep=\"|\")  # Use the downloaded file path\n",
    "# static items data\n",
    "item_data = pd.read_csv(\"/content/drive/MyDrive/data/data/items.csv\", sep=\"|\")  # Use the downloaded file path\n",
    "# perform join on both the datasets using \"pid\"\n",
    "data_new = pd.merge(train_data, item_data, how='left', on='pid')\n",
    "data_new.shape"
   ]
  },
  {
   "cell_type": "code",
   "execution_count": null,
   "metadata": {
    "colab": {
     "base_uri": "https://localhost:8080/"
    },
    "id": "SUIALeFvSeoz",
    "outputId": "975b3cb6-e8f3-41ec-ceb0-239c288a2795"
   },
   "outputs": [],
   "source": [
    "data_new.head()"
   ]
  },
  {
   "cell_type": "code",
   "execution_count": null,
   "metadata": {
    "colab": {
     "base_uri": "https://localhost:8080/"
    },
    "id": "BPfxG320Sij4",
    "outputId": "96a27ce6-01c8-41ec-abf4-a338295545d1"
   },
   "outputs": [],
   "source": [
    "# Download class_data\n",
    "#class_data_url = \"https://drive.google.com/uc?id=1tizOGpDeKHmNvVPnNPwUuWwGOfAp1V4f\"\n",
    "#class_data_path = \"class_data.csv\"\n",
    "#gdown.download(class_data_url, class_data_path, quiet=False)\n",
    "class_data = pd.read_csv(\"/content/drive/MyDrive/data/data/class.csv\", sep=\"|\")\n",
    "class_data.set_index('lineID', inplace=True, drop=True)\n",
    "\n",
    "# Download real_class_data\n",
    "#real_class_data_url = \"https://drive.google.com/uc?id=1dVEn6zuMIvBcUt0hvskaMix8VqBLoVqs\"\n",
    "#real_class_data_path = \"real_class_data.csv\"\n",
    "#gdown.download(real_class_data_url, real_class_data_path, quiet=False)\n",
    "real_class_data = pd.read_csv(\"/content/drive/MyDrive/data/data/realclass.csv\", sep=\"|\")\n",
    "real_class_data.rename(columns={'revenue': 'actual_revenue'}, inplace=True)\n",
    "real_class_data.set_index(\"lineID\", inplace=True, drop=True)\n",
    "\n",
    "# Join and merge the data\n",
    "test_data = class_data.join(real_class_data, on='lineID', how='inner')\n",
    "test_data = pd.merge(test_data, item_data, how='left', on='pid')  # Assuming item_data is already loaded\n",
    "test_data.shape"
   ]
  },
  {
   "cell_type": "code",
   "execution_count": null,
   "metadata": {
    "colab": {
     "base_uri": "https://localhost:8080/"
    },
    "id": "8mgON5yiZW2p",
    "outputId": "42f124b9-aa22-4f87-ed50-0a67278a73ae"
   },
   "outputs": [],
   "source": [
    "test_data.head()"
   ]
  },
  {
   "cell_type": "code",
   "execution_count": null,
   "metadata": {
    "colab": {
     "base_uri": "https://localhost:8080/"
    },
    "id": "y_eFROkuafRR",
    "outputId": "638e3e8d-4a64-4e00-b5ca-57d1c529d212"
   },
   "outputs": [],
   "source": [
    "data_new.info()"
   ]
  },
  {
   "cell_type": "code",
   "execution_count": null,
   "metadata": {
    "colab": {
     "base_uri": "https://localhost:8080/"
    },
    "id": "bm4J6DhBa6RX",
    "outputId": "4829e1cc-7346-4563-d10a-1c6d64904814"
   },
   "outputs": [],
   "source": [
    "features_null_values=[features for features in data_new.columns if data_new[features].isnull().sum()>1]\n",
    "for i in features_null_values:\n",
    "    print(i, np.round(data_new[i].isnull().mean()*100,4), ' % missing values')"
   ]
  },
  {
   "cell_type": "code",
   "execution_count": null,
   "metadata": {
    "colab": {
     "base_uri": "https://localhost:8080/"
    },
    "id": "YsFHuZxjbBzL",
    "outputId": "bbff2c62-2e90-4007-aebe-fb9a9798b480"
   },
   "outputs": [],
   "source": [
    "import datetime\n",
    "\n",
    "def gen_dates(month, year):\n",
    "    start_date = datetime.date(year, month, 1)\n",
    "    dates = [start_date]\n",
    "\n",
    "    for _ in range(91):\n",
    "        start_date += datetime.timedelta(days=1)\n",
    "        dates.append(start_date)\n",
    "\n",
    "    return dates\n",
    "\n",
    "# Example: Generating dates for a hypothetical month with 92 days in the year 2024\n",
    "month = 10  # October\n",
    "year = 2024\n",
    "\n",
    "date_list = gen_dates(month, year)\n",
    "\n",
    "# # Print the list of dates\n",
    "# for date in date_list:\n",
    "#     print(date.strftime(\"%Y-%m-%d\"))\n",
    "\n",
    "final_dates = []\n",
    "\n",
    "for index in np.array( np.unique(data_new['day']), dtype=int):\n",
    "    for i in range((data_new['day'] == index).sum()):\n",
    "        final_dates.append( date_list[index-1] )\n",
    "\n",
    "print(len(final_dates))\n"
   ]
  },
  {
   "cell_type": "code",
   "execution_count": null,
   "metadata": {
    "id": "LBjSaL6Wd32F"
   },
   "outputs": [],
   "source": [
    "data_new[\"Date\"] = final_dates"
   ]
  },
  {
   "cell_type": "code",
   "execution_count": null,
   "metadata": {
    "id": "NQmedb-YdqfT"
   },
   "outputs": [],
   "source": [
    "pd.pandas.set_option('display.max_columns',None)"
   ]
  },
  {
   "cell_type": "code",
   "execution_count": null,
   "metadata": {
    "colab": {
     "base_uri": "https://localhost:8080/",
     "height": 313
    },
    "id": "ryEmsEVkds1A",
    "outputId": "7a369698-056d-477a-9543-38c09e7176b5"
   },
   "outputs": [],
   "source": [
    "data_new.head()"
   ]
  },
  {
   "cell_type": "markdown",
   "metadata": {
    "id": "LgDqS20ae3GY"
   },
   "source": [
    "## Exploratory Data Analysis"
   ]
  },
  {
   "cell_type": "code",
   "execution_count": null,
   "metadata": {
    "id": "gPbldIJ4e8RO"
   },
   "outputs": [],
   "source": [
    "import pandas as pd\n",
    "import seaborn as sns\n",
    "import plotly.express as px\n",
    "import matplotlib.pyplot as plt"
   ]
  },
  {
   "cell_type": "markdown",
   "metadata": {
    "id": "YCvkf3MXfcJY"
   },
   "source": [
    "#### 1. **Revenue Distribution**\n",
    "**Variable:** Revenue  \n",
    "**Graph:** Histogram  \n",
    "**Question:** How is revenue distributed based on each user action?  \n",
    "**Answer:** The revenue distribution per user action is strongly left-skewed, as seen by the histogram. Most activities yield extremely little revenue, usually between 0 and 1 units."
   ]
  },
  {
   "cell_type": "code",
   "execution_count": null,
   "metadata": {
    "colab": {
     "base_uri": "https://localhost:8080/",
     "height": 542
    },
    "id": "OCBVE21ff8hc",
    "outputId": "73c06f4e-5c63-4fa8-fd86-5cbc008b7791"
   },
   "outputs": [],
   "source": [
    "fig_1 = px.histogram(data_new, x='revenue', title='Revenue Distribution')\n",
    "fig_1.update_xaxes(title_text='Revenue', range=[0, 600])  # Adjust the x-axis range as needed\n",
    "fig_1.update_yaxes(title_text='Frequency', range=[0, 32000])  # Adjust the y-axis range as needed\n",
    "fig_1.show()"
   ]
  },
  {
   "cell_type": "code",
   "execution_count": null,
   "metadata": {
    "colab": {
     "base_uri": "https://localhost:8080/",
     "height": 611
    },
    "id": "Vkao8TyngFKc",
    "outputId": "4c92b7d0-ac29-4cae-afcc-8835f46e12db"
   },
   "outputs": [],
   "source": [
    "fig_1_log = px.histogram(x=np.log(data_new['revenue']), title='Revenue Distribution')\n",
    "fig_1_log.update_xaxes(title_text='Log of Revenue')\n",
    "fig_1_log.update_yaxes(title_text='Frequency')\n"
   ]
  },
  {
   "cell_type": "markdown",
   "metadata": {
    "id": "ZsgEAh83h-xl"
   },
   "source": [
    "#### 2. **Action Type Distribution**\n",
    "**Variable:** Revenue  \n",
    "**Graph:** Histogram  \n",
    "**Question:** What is the distribution of user actions (click, basket, order)?  \n",
    "**Answer:** The histogram illustrates the substantial left-skewed revenue distribution per user action. The majority of activities generate very little income, typically in the range between 0 and 1."
   ]
  },
  {
   "cell_type": "code",
   "execution_count": null,
   "metadata": {
    "colab": {
     "base_uri": "https://localhost:8080/",
     "height": 542
    },
    "id": "L47O4uJPijLT",
    "outputId": "2d4ed931-55a8-4851-b2c9-84a1f1e5578e"
   },
   "outputs": [],
   "source": [
    "action_counts = data_new[['click', 'basket', 'order']].sum()\n",
    "fig_2 = px.bar(x=action_counts.index, y=action_counts.values, title='Action Type Distribution')\n",
    "fig_2.update_xaxes(title_text='Action Type')\n",
    "fig_2.update_yaxes(title_text='Count')"
   ]
  },
  {
   "cell_type": "markdown",
   "metadata": {
    "id": "UhXIUskTjrNo"
   },
   "source": [
    "### 3. **Daily Revenue Trends**\n",
    "\n",
    "**Variables:** Date, Revenue  \n",
    "**Graph:** Line Plot  \n",
    "**Question:** What is the time variation in revenue?  \n",
    "**Answer:** Over time, there are noticeable peaks and dips in the revenue, with a pattern that repeats every seven days.\n"
   ]
  },
  {
   "cell_type": "code",
   "execution_count": null,
   "metadata": {
    "colab": {
     "base_uri": "https://localhost:8080/",
     "height": 542
    },
    "id": "S9s8Q9D_j5_a",
    "outputId": "4bdd6e25-3847-47a4-c08a-752b36ed024a"
   },
   "outputs": [],
   "source": [
    "revenue_daily = data_new.groupby('day')['revenue'].sum().reset_index()\n",
    "fig_3 = px.line(revenue_daily, x='day', y='revenue', title='Daily Revenue Trend')\n",
    "fig_3.update_xaxes(title_text='Day Number')\n",
    "fig_3.update_yaxes(title_text='Revenue')"
   ]
  },
  {
   "cell_type": "markdown",
   "metadata": {
    "id": "TLPQGiDHkrak"
   },
   "source": [
    "### 4. **Competitor's Price vs. Our Price**\n",
    "\n",
    "**Variables:** Competitor's Price, Our Price  \n",
    "**Graph:** Scatter Plot  \n",
    "**Question:** Does our price compare favorably with that of our competitors?  \n",
    "**Answer:** Over the whole revenue range, there is a positive linear correlation between our pricing and the competitor's price.\n"
   ]
  },
  {
   "cell_type": "code",
   "execution_count": null,
   "metadata": {
    "colab": {
     "base_uri": "https://localhost:8080/",
     "height": 617
    },
    "id": "UkTt2IkYk8-B",
    "outputId": "e5cbd8d4-98dd-4e4a-9dd6-50129a66227d"
   },
   "outputs": [],
   "source": [
    "# Create the scatter plot with Plotly\n",
    "fig = px.scatter(data_new, x='price', y='competitorPrice', color='revenue',\n",
    "                 title='Analysis 4: Competitor\\'s Price vs. Our Price',\n",
    "                 labels={'price': 'Our Price', 'competitorPrice': 'Competitor\\'s Price', 'revenue': 'Revenue'},\n",
    "                 width=1000, height=600)\n",
    "\n",
    "# Update layout for a more polished look\n",
    "fig.update_layout(\n",
    "    title={'x':0.5, 'xanchor': 'center'},  # Center the title\n",
    "    xaxis_title='Our Price',\n",
    "    yaxis_title='Competitor\\'s Price',\n",
    "    template='plotly_white',  # Cleaner background style\n",
    "    coloraxis_colorbar=dict(title='Revenue')\n",
    ")\n",
    "\n",
    "# Optimize for performance\n",
    "fig.update_traces(marker=dict(size=5))  # Reduce marker size\n",
    "fig.update_layout(hovermode='closest')  # Optimize hover performance\n",
    "\n",
    "# Show the plot\n",
    "fig.show()"
   ]
  },
  {
   "cell_type": "markdown",
   "metadata": {
    "id": "QR36g-IZlqu4"
   },
   "source": [
    "### 5. **Click-Through Rate (CTR) Analysis**\n",
    "\n",
    "**Variables:** Click and Basket  \n",
    "**Graph:** Bar Chart  \n",
    "**Question:** How is the CTR(Click Through Rate) variable?  \n",
    "**Answer:** Out of 2.77 million clicks, 1.17 million result in the addition of a basket, or about 42% of clicks.\n"
   ]
  },
  {
   "cell_type": "code",
   "execution_count": null,
   "metadata": {
    "colab": {
     "base_uri": "https://localhost:8080/",
     "height": 631
    },
    "id": "UsOmVcOAosm2",
    "outputId": "ae617030-7022-470a-f7b7-f9b7e2af27ab"
   },
   "outputs": [],
   "source": [
    "df_temp = pd.DataFrame()\n",
    "df_temp[\"revenue\"] = data_new[\"revenue\"]\n",
    "df_temp['CTR'] = (data_new[\"click\"]+data_new[\"basket\"]+data_new[\"order\"])/(data_new[\"basket\"]+data_new[\"order\"])\n",
    "\n",
    "\n",
    "df_temp.dropna(inplace=True)\n",
    "temp = df_temp[\"CTR\"]\n",
    "\n",
    "for index in temp.index:\n",
    "    if temp[index]==1.0:\n",
    "        temp[index]='yes'\n",
    "    else:\n",
    "        temp[index]='no'\n",
    "\n",
    "fig = px.histogram(x=temp)\n",
    "fig.update_layout(bargap=0.2)\n",
    "fig.update_layout(\n",
    "    title=\" Click-Through Rate (CTR) Analysis\",\n",
    "    xaxis_title=\"Added to basket after Clicking?\",\n",
    "    yaxis_title=\"Count\")\n",
    "fig.show()"
   ]
  },
  {
   "cell_type": "code",
   "execution_count": null,
   "metadata": {
    "colab": {
     "base_uri": "https://localhost:8080/",
     "height": 517
    },
    "id": "FXwHorwop0pR",
    "outputId": "a14da0fe-525c-4336-bcc7-9f0f8fe26bae"
   },
   "outputs": [],
   "source": [
    "df_temp[\"CTR\"] = temp\n",
    "CTR_revenue = df_temp.groupby('CTR')['revenue'].sum().reset_index()\n",
    "# Create the bar plot with Plotly\n",
    "fig = px.bar(CTR_revenue, x='CTR', y='revenue',\n",
    "             title='Analysis 5: Click-Through Rate (CTR) Analysis',\n",
    "             labels={'CTR': 'CTR', 'revenue': 'Revenue'},\n",
    "             width=800, height=500)\n",
    "\n",
    "# Update layout for a more polished look\n",
    "fig.update_layout(\n",
    "    title={'x':0.5, 'xanchor': 'center'},  # Center the title\n",
    "    xaxis_title='CTR',\n",
    "    yaxis_title='Revenue',\n",
    "    template='plotly_white'  # Optional: cleaner background style\n",
    ")\n",
    "\n",
    "# Show the plot\n",
    "fig.show()"
   ]
  },
  {
   "cell_type": "markdown",
   "metadata": {
    "id": "PeFiCxJYqxAa"
   },
   "source": [
    "### 6. **Basket Conversion Rate**\n",
    "\n",
    "**Variables:** Basket, Revenue  \n",
    "**Graph:** Bar Chart  \n",
    "**Question:** What impact does the basket conversion rate have on sales?  \n",
    "**Answer:** Of the 1.2 million basket additions, almost 60% (or 0.7 million) result in a purchase.\n"
   ]
  },
  {
   "cell_type": "code",
   "execution_count": null,
   "metadata": {
    "colab": {
     "base_uri": "https://localhost:8080/",
     "height": 542
    },
    "id": "z4coEUG6qL69",
    "outputId": "ffa58c15-96d8-409a-87b0-648dc34e80f9"
   },
   "outputs": [],
   "source": [
    "\n",
    "# Prepare DataFrame\n",
    "df_temp = pd.DataFrame()\n",
    "df_temp[\"basket\"] = data_new['basket']\n",
    "df_temp['revenue'] = data_new['revenue']\n",
    "df_temp['order'] = data_new['order']\n",
    "df_temp[\"click\"] = data_new['click']\n",
    "df_temp['Basket Conversion Rate'] = (df_temp['basket'] + df_temp['order']) / df_temp['order']\n",
    "\n",
    "# Drop NaN values\n",
    "df_temp.dropna(inplace=True)\n",
    "\n",
    "# Categorize Basket Conversion Rate\n",
    "df_temp['Basket Conversion Rate'] = df_temp['Basket Conversion Rate'].apply(lambda x: 'Yes' if x == 1.0 else 'No')\n",
    "\n",
    "# Plot histogram\n",
    "fig = px.histogram(df_temp, x='Basket Conversion Rate', title=\"Basket Conversion Rate (BCR) Analysis\")\n",
    "fig.update_layout(bargap=0.2)\n",
    "fig.update_xaxes(title=\"Ordered after adding to basket?\")\n",
    "fig.update_yaxes(title=\"Count\")\n",
    "fig.show()\n"
   ]
  },
  {
   "cell_type": "markdown",
   "metadata": {
    "id": "gMYIkzfxr5RJ"
   },
   "source": [
    "### 7. **Product Category Analysis**\n",
    "\n",
    "**Variable:** Product Category  \n",
    "**Graph:** Bar Chart  \n",
    "**Question:** Which product categories yield the highest income?\n",
    "  \n",
    "**Answer:**  \n",
    "The product category with the highest revenue generation, product category 50, brings in about 3 lakhs, followed by product category 99 with about 2.75 lakhs and product category 25 with about 2.4 lakhs. Nearly no money is made by the product categories 327, 337, 364, 379, and 391.\n",
    "\n"
   ]
  },
  {
   "cell_type": "code",
   "execution_count": null,
   "metadata": {
    "colab": {
     "base_uri": "https://localhost:8080/",
     "height": 517
    },
    "id": "ZbZKnDtysXNj",
    "outputId": "912049d8-1842-4a55-8762-c2aa491d2485"
   },
   "outputs": [],
   "source": [
    "\n",
    "# Group by category and calculate total revenue\n",
    "category_revenue = data_new.groupby('category')['revenue'].sum().reset_index()\n",
    "\n",
    "# Create the bar plot with Plotly\n",
    "fig = px.bar(category_revenue, x='category', y='revenue',\n",
    "             title='Analysis 7: Product Category Analysis',\n",
    "             labels={'category': 'Product Category', 'revenue': 'Revenue'},\n",
    "             width=800, height=500)\n",
    "\n",
    "# Update layout for better aesthetics\n",
    "fig.update_layout(\n",
    "    title={'x': 0.1, 'xanchor': 'center'},  # Center the title\n",
    "    xaxis_title='Product Category',\n",
    "    yaxis_title='Revenue',\n",
    "    template='plotly_white'  # Optional: cleaner background style\n",
    ")\n",
    "\n",
    "# Show the plot\n",
    "fig.show()\n"
   ]
  },
  {
   "cell_type": "code",
   "execution_count": null,
   "metadata": {
    "colab": {
     "base_uri": "https://localhost:8080/",
     "height": 517
    },
    "id": "6Pym6-Dbs8NT",
    "outputId": "c0973626-e557-438f-88ba-60375c987322"
   },
   "outputs": [],
   "source": [
    "import plotly.express as px\n",
    "import pandas as pd\n",
    "\n",
    "# Group by category and calculate total revenue\n",
    "category_revenue = data_new.groupby('category')['revenue'].sum().reset_index()\n",
    "\n",
    "# Sort values by revenue in descending order\n",
    "category_revenue.sort_values(by='revenue', ascending=False, inplace=True)\n",
    "\n",
    "# Select the top 20 categories\n",
    "category_revenue = category_revenue.head(20)\n",
    "\n",
    "# Create the bar plot with Plotly\n",
    "fig = px.bar(category_revenue, x='category', y='revenue',\n",
    "             title='Analysis 7: Top 20 Product Categories in Terms of Revenue',\n",
    "             labels={'category': 'Product Category', 'revenue': 'Revenue'},\n",
    "             width=800, height=500)\n",
    "\n",
    "# Update traces to add thickness to the bars\n",
    "#fig.update_traces(marker=dict(line=dict(width=2)))  # Set the thickness of the bars\n",
    "\n",
    "# Update layout for better aesthetics\n",
    "fig.update_layout(\n",
    "    title={'x': 0.5, 'xanchor': 'center'},  # Center the title\n",
    "    xaxis_title='Product Category',\n",
    "    yaxis_title='Revenue',\n",
    "    template='plotly_white'  # Optional: cleaner background style\n",
    ")\n",
    "\n",
    "# Show the plot\n",
    "fig.show()\n"
   ]
  },
  {
   "cell_type": "code",
   "execution_count": null,
   "metadata": {
    "colab": {
     "base_uri": "https://localhost:8080/",
     "height": 581
    },
    "id": "4i9qIlKNtFnJ",
    "outputId": "868f41fc-7bf4-45d3-9a44-e00281cc5994"
   },
   "outputs": [],
   "source": [
    "category_revenue = data_new.groupby('category')['revenue'].sum().reset_index()\n",
    "category_revenue.sort_values(by='revenue', ascending=False, inplace=True)\n",
    "category_revenue = category_revenue[-20:]\n",
    "plt.figure(figsize=(10, 6))\n",
    "sns.barplot(data=category_revenue, x='category', y='revenue')\n",
    "plt.title('Analysis 7: Last 20 Product Category in terms of Revenue')\n",
    "plt.xlabel('Product Category')\n",
    "plt.ylabel('Revenue')"
   ]
  },
  {
   "cell_type": "markdown",
   "metadata": {
    "id": "06ZYqt3b1VPC"
   },
   "source": [
    "## 8. **User Behavior by Day of the Week**\n",
    "\n",
    "**Variables**: Date, Click, Basket, Order  \n",
    "**Graph**: Heatmap  \n",
    "**Question**: Does the day of the week affect the actions of users?  \n",
    "**Sample Answer**:  \n",
    "On Mondays, the most clicks occur, and on Saturdays, the least. Tuesdays and Sundays had the most clicks and orders among users, after Mondays.\n"
   ]
  },
  {
   "cell_type": "code",
   "execution_count": null,
   "metadata": {
    "id": "rKM5UjfL0Q0m"
   },
   "outputs": [],
   "source": [
    "data_new['Date'] = pd.to_datetime(final_dates)\n",
    "data_new['Day of Week'] = data_new['Date'].dt.day_name()\n",
    "action_by_day = data_new[['Day of Week', 'click', 'basket', 'order']].groupby('Day of Week').sum().reset_index()"
   ]
  },
  {
   "cell_type": "code",
   "execution_count": null,
   "metadata": {
    "colab": {
     "base_uri": "https://localhost:8080/",
     "height": 564
    },
    "id": "Nsl1Q-8I11AU",
    "outputId": "40a4f990-485d-402e-b83c-2a452c51303d"
   },
   "outputs": [],
   "source": [
    "plt.figure(figsize=(12, 6))\n",
    "# Pivot the data for the heatmap\n",
    "heatmap_data = action_by_day.pivot(index='Day of Week', columns='click', values='order')\n",
    "sns.heatmap(data=heatmap_data, cmap=\"YlGnBu\", annot=True)\n",
    "plt.title('Analysis 8: User Behavior by Day of the Week')\n",
    "plt.xlabel('Action Type: Click')\n",
    "plt.ylabel('Day of Week')\n",
    "plt.show()"
   ]
  },
  {
   "cell_type": "code",
   "execution_count": null,
   "metadata": {
    "colab": {
     "base_uri": "https://localhost:8080/",
     "height": 564
    },
    "id": "f5oEjNfT2MEN",
    "outputId": "03ecb031-98b5-470e-d42c-f32146b0dde2"
   },
   "outputs": [],
   "source": [
    "plt.figure(figsize=(12, 6))\n",
    "# Pivot the data for the heatmap\n",
    "heatmap_data = action_by_day.pivot(index='Day of Week', columns='order', values='order')\n",
    "sns.heatmap(data=heatmap_data, cmap=\"YlGnBu\", annot=True)\n",
    "plt.title('Analysis 8: User Behavior by Day of the Week')\n",
    "plt.xlabel('Action Type: Order')\n",
    "plt.ylabel('Day of Week')\n",
    "plt.show()"
   ]
  },
  {
   "cell_type": "code",
   "execution_count": null,
   "metadata": {
    "id": "pVGQMR-O2-VE"
   },
   "outputs": [],
   "source": [
    "## above graphs are different from that in kaggle notebook"
   ]
  },
  {
   "cell_type": "markdown",
   "metadata": {
    "id": "LE3n2kJC3ZvX"
   },
   "source": [
    "## 9. **Price Elasticity Analysis**\n",
    "\n",
    "**Variables**: Our Price, Revenue  \n",
    "**Graph**: Scatter Plot  \n",
    "**Question**: What effect does raising our price have on sales?\n",
    "\n",
    "**Sample Answer**:  \n",
    "Revenue doesn't change in the lower price range (0 to 20). Revenue rises in line with price increases in the mid-range (20 to 200).\n"
   ]
  },
  {
   "cell_type": "code",
   "execution_count": null,
   "metadata": {
    "colab": {
     "base_uri": "https://localhost:8080/",
     "height": 581
    },
    "id": "0-B_L9WN3Jft",
    "outputId": "684ea82c-6d69-4ff9-bac3-d6c82ca9be2a"
   },
   "outputs": [],
   "source": [
    "plt.figure(figsize=(10, 6))\n",
    "df_temp = data_new[data_new['order']==1]\n",
    "sns.scatterplot(data=df_temp, x='price', y='revenue')\n",
    "plt.title('Analysis 9: Price Elasticity Analysis - Overall')\n",
    "plt.xlabel('Our Price')\n",
    "plt.ylabel('Revenue')\n"
   ]
  },
  {
   "cell_type": "code",
   "execution_count": null,
   "metadata": {
    "colab": {
     "base_uri": "https://localhost:8080/",
     "height": 581
    },
    "id": "6OD-OHjj4FME",
    "outputId": "cf6e6696-1d76-423a-b156-813a354360e4"
   },
   "outputs": [],
   "source": [
    "plt.figure(figsize=(10, 6))\n",
    "df_temp = data_new[data_new['order']==1]\n",
    "df_temp = df_temp[df_temp['price']<20]\n",
    "sns.scatterplot(data=df_temp, x='price', y='revenue')\n",
    "plt.title('Analysis 9: Price Elasticity Analysis - Low Price Range')\n",
    "plt.xlabel('Our Price')\n",
    "plt.ylabel('Revenue')"
   ]
  },
  {
   "cell_type": "code",
   "execution_count": null,
   "metadata": {
    "colab": {
     "base_uri": "https://localhost:8080/",
     "height": 581
    },
    "id": "7EsuAvpQ4pOD",
    "outputId": "6f6ef782-4894-4d29-ed5b-73492a8b4c49"
   },
   "outputs": [],
   "source": [
    "plt.figure(figsize=(10, 6))\n",
    "df_temp = data_new[data_new['order']==1]\n",
    "df_temp = df_temp[df_temp['price']>20]\n",
    "df_temp = df_temp[df_temp['price']<200]\n",
    "sns.scatterplot(data=df_temp, x='price', y='revenue')\n",
    "plt.title('Analysis 9: Price Elasticity Analysis - Mid Price Range')\n",
    "plt.xlabel('Our Price')\n",
    "plt.ylabel('Revenue')"
   ]
  },
  {
   "cell_type": "markdown",
   "metadata": {
    "id": "JVKNyzgT5BhU"
   },
   "source": [
    "## 10. **User Activity Over Time**\n",
    "\n",
    "**Variables**: Date, Click, Basket, Order  \n",
    "**Graph**: Line Plot  \n",
    "**Question**: What changes have you seen in user activity over time?\n",
    "  \n",
    "**Sample Answer**:  \n",
    "Over time, the general pattern for orders, basket additions, and clicks did not change. User behavior is cyclical, occurring once a week. The middle of the period saw a 15-day decline in user activity. Over time, the percentage of clicks that result in an order or basket addition has been trending in the same direction.\n",
    "\n"
   ]
  },
  {
   "cell_type": "code",
   "execution_count": null,
   "metadata": {
    "colab": {
     "base_uri": "https://localhost:8080/",
     "height": 517
    },
    "id": "FCWUZGLt4zbl",
    "outputId": "49907622-8494-449c-d8e9-32bcc462a3a7"
   },
   "outputs": [],
   "source": [
    "import plotly.graph_objects as go\n",
    "import pandas as pd\n",
    "\n",
    "# Create a temporary DataFrame with the necessary calculations\n",
    "df_temp = pd.DataFrame()\n",
    "df_temp['Date'] = pd.to_datetime(final_dates)\n",
    "df_temp['click'] = data_new['click'] + data_new['basket'] + data_new['order']\n",
    "df_temp['basket'] = data_new['basket'] + data_new['order']\n",
    "df_temp['order'] = data_new['order']\n",
    "\n",
    "# Group by Date and sum the values\n",
    "user_activity_over_time = df_temp.groupby('Date')[['click', 'basket', 'order']].sum().reset_index()\n",
    "\n",
    "# Create the figure\n",
    "fig = go.Figure()\n",
    "\n",
    "# Add traces for clicks, baskets, and orders\n",
    "fig.add_trace(go.Scatter(x=user_activity_over_time['Date'], y=user_activity_over_time['click'],\n",
    "                         mode='lines', name='Click', line=dict(width=2)))\n",
    "fig.add_trace(go.Scatter(x=user_activity_over_time['Date'], y=user_activity_over_time['basket'],\n",
    "                         mode='lines', name='Basket', line=dict(width=2)))\n",
    "fig.add_trace(go.Scatter(x=user_activity_over_time['Date'], y=user_activity_over_time['order'],\n",
    "                         mode='lines', name='Order', line=dict(width=2)))\n",
    "\n",
    "# Update layout for better aesthetics\n",
    "fig.update_layout(\n",
    "    title='Analysis 10: User Activity Over Time',\n",
    "    xaxis_title='Date',\n",
    "    yaxis_title='User Activity',\n",
    "    legend_title='Activity Type',\n",
    "    width=800,\n",
    "    height=500\n",
    ")\n",
    "\n",
    "# Show the plot\n",
    "fig.show()\n"
   ]
  },
  {
   "cell_type": "markdown",
   "metadata": {
    "id": "YY9-SkTz5_1h"
   },
   "source": [
    "## 11. **Revenue by Manufacturer**\n",
    "\n",
    "**Variables**: Manufacturer  \n",
    "**Graph**: Bar Chart  \n",
    "**Question**: Is revenue different for different manufacturers?\n",
    "\n",
    "**Answer**:  \n",
    "The manufacturers that contribute the most to revenue are 343, 175, and 239. More than a hundred manufacturers provide virtually no revenue at all.\n",
    "\n"
   ]
  },
  {
   "cell_type": "code",
   "execution_count": null,
   "metadata": {
    "colab": {
     "base_uri": "https://localhost:8080/",
     "height": 617
    },
    "id": "PKEYfNYK7qZQ",
    "outputId": "2c204cb0-d2ea-4b1a-b7a4-3a889b2ff0cb"
   },
   "outputs": [],
   "source": [
    "# Aggregate the data by manufacturer\n",
    "manufacturer_revenue = data_new.groupby('manufacturer')['revenue'].sum().reset_index()\n",
    "\n",
    "# Sort the data by revenue in descending order\n",
    "manufacturer_revenue = manufacturer_revenue.sort_values('revenue', ascending=False)\n",
    "\n",
    "# Take top 20 manufacturers (adjust this number as needed)\n",
    "top_manufacturers = manufacturer_revenue.head(20)\n",
    "\n",
    "# Create the bar plot with Plotly\n",
    "fig = px.bar(top_manufacturers, x='manufacturer', y='revenue',\n",
    "             title='Analysis 11: Revenue by Manufacturer (Top 20)',\n",
    "             labels={'manufacturer': 'Manufacturer', 'revenue': 'Revenue'},\n",
    "             width=1000, height=600)\n",
    "\n",
    "# Update layout for a more polished look\n",
    "fig.update_layout(\n",
    "    title={'x':0.5, 'xanchor': 'center'},  # Center the title\n",
    "    xaxis_title='Manufacturer',\n",
    "    yaxis_title='Revenue',\n",
    "    template='plotly_white',  # Cleaner background style\n",
    "    xaxis={'categoryorder':'total descending'}  # Sort bars by revenue\n",
    ")\n",
    "\n",
    "# Rotate x-axis labels for better readability\n",
    "fig.update_xaxes(tickangle=45)\n",
    "\n",
    "# Add hover information\n",
    "fig.update_traces(hovertemplate='Manufacturer: %{x}<br>Revenue: $%{y:,.2f}')\n",
    "\n",
    "# Show the plot\n",
    "fig.show()"
   ]
  },
  {
   "cell_type": "markdown",
   "metadata": {
    "id": "1Gz7c_S35-Xe"
   },
   "source": [
    "## 12. **Product Genericity vs. Revenue**\n",
    "\n",
    "**Variables**: Product Genericity and Revenue  \n",
    "**Graph**: Box Plot  \n",
    "**Question**: Does the general nature of a particular product affect sales?\n",
    "  \n",
    "**Answer**:  \n",
    "The genericity of the product does seem to have a big effect on sales. The very high revenue comes from products that aren't generic. Compared to non-generic products, the median revenue of generic products is lower."
   ]
  },
  {
   "cell_type": "code",
   "execution_count": null,
   "metadata": {
    "colab": {
     "base_uri": "https://localhost:8080/",
     "height": 517
    },
    "id": "8K84rSOF9a3w",
    "outputId": "7e213ffd-d1c8-433c-b2b6-c02a66c94f90"
   },
   "outputs": [],
   "source": [
    "fig = px.box(data_new, x='genericProduct', y='revenue',\n",
    "             title=' Revenue Product vs.Genericity ',\n",
    "             labels={'genericProduct': 'Product Genericity', 'revenue': 'Revenue'},\n",
    "             height=500)\n",
    "\n",
    "fig.update_layout(\n",
    "    xaxis_title='Product Genericity',\n",
    "    yaxis_title='Revenue',\n",
    "    yaxis_tickformat=','\n",
    ")\n",
    "\n",
    "fig.show()"
   ]
  },
  {
   "cell_type": "markdown",
   "metadata": {
    "id": "-YEyTxgS9oVX"
   },
   "source": [
    "## 13. **Competitor Price Changes Over Time**\n",
    "\n",
    "**Variables**: Date, Competitor's Price  \n",
    "**Graph**: Line Plot  \n",
    "**Question**: How has the pricing of the rival altered over time?  \n",
    "**Answer**:  \n",
    "Our revenue has been impacted by pricing fluctuations from the rival. For the first thirty-five days, the competitor's price has been rising; after that, its trend stays steady.\n",
    "\n"
   ]
  },
  {
   "cell_type": "code",
   "execution_count": null,
   "metadata": {
    "colab": {
     "background_save": true,
     "base_uri": "https://localhost:8080/",
     "height": 617
    },
    "id": "XoHfSxjL9feO",
    "outputId": "e79ee903-aa05-4cba-a92e-39174925046e"
   },
   "outputs": [],
   "source": [
    "import plotly.express as px\n",
    "\n",
    "# Create the line plot\n",
    "fig = px.line(data_new, x='day', y='competitorPrice',\n",
    "              title='Competitor Price Changes Over Time',\n",
    "              labels={'day': 'Day', 'competitorPrice': 'Competitor\\'s Price'},\n",
    "              height=600)\n",
    "\n",
    "# Update layout\n",
    "fig.update_layout(\n",
    "    xaxis_title='Day',\n",
    "    yaxis_title='Competitor Price',\n",
    "    yaxis_tickformat=',.2f',  # Add comma separator for thousands and show 2 decimal places\n",
    "    xaxis_tickmode='linear',  # Force all x-axis ticks to be shown\n",
    "    xaxis_tick0=0,  # Start x-axis at 0\n",
    "    xaxis_dtick=1  # Show every day\n",
    ")\n",
    "\n",
    "# Add range slider\n",
    "fig.update_xaxes(rangeslider_visible=True)\n",
    "\n",
    "# Show the plot\n",
    "fig.show()"
   ]
  },
  {
   "cell_type": "markdown",
   "metadata": {
    "id": "bGh7bnFn-FDe"
   },
   "source": [
    "## 14. **User Engagement with Product**\n",
    "\n",
    "**Variables**: Device Type, Click, Basket, Order  \n",
    "**Graph**: Bar Chart  \n",
    "**Question**: How do different product types affect user engagement? trend doesn't change.\n",
    "**Answer**:  \n",
    "The most clicked products were 10, 11, and 15, however products 10 and 11 were bought more often than product 15.\n"
   ]
  },
  {
   "cell_type": "code",
   "execution_count": null,
   "metadata": {
    "colab": {
     "base_uri": "https://localhost:8080/",
     "height": 617
    },
    "id": "KNnNLr-V97Zb",
    "outputId": "adeb4e68-b234-4052-d8f9-2f57e6942c2e"
   },
   "outputs": [],
   "source": [
    "import plotly.express as px\n",
    "\n",
    "# Group data by product ID and sum clicks\n",
    "df_temp = data_new.groupby('pid')['click'].sum().reset_index()\n",
    "\n",
    "# Sort by click count and get top 20\n",
    "df_temp = df_temp.sort_values('click', ascending=False).head(50)\n",
    "\n",
    "# Create the bar plot\n",
    "fig = px.bar(df_temp, x='pid', y='click',\n",
    "             title='User Engagement with Top 50 Products',\n",
    "             labels={'pid': 'Product ID', 'click': 'Click Count'},\n",
    "             height=600)\n",
    "\n",
    "# Update layout\n",
    "fig.update_layout(\n",
    "    xaxis_title='Product ID',\n",
    "    yaxis_title='Click Count',\n",
    "    xaxis_tickangle=-45,  # Rotate x-axis labels for better readability\n",
    "    yaxis_tickformat=',',  # Add comma separator for thousands\n",
    "    bargap=0.2  # Adjust gap between bars\n",
    ")\n",
    "\n",
    "# Show the plot\n",
    "fig.show()"
   ]
  },
  {
   "cell_type": "code",
   "execution_count": null,
   "metadata": {
    "colab": {
     "base_uri": "https://localhost:8080/",
     "height": 581
    },
    "id": "0lCcj-RI-blk",
    "outputId": "146980a7-362f-42b7-df59-888897add9c7"
   },
   "outputs": [],
   "source": [
    "plt.figure(figsize=(10, 6))\n",
    "df_temp = data_new.groupby('pid')['order'].sum().reset_index()\n",
    "df_temp = df_temp[0:20]\n",
    "sns.barplot(data=df_temp, x='pid', y='order')\n",
    "plt.title('Analysis 14: User Engagement with top 20 Products')\n",
    "plt.xlabel('Product ID')\n",
    "plt.ylabel('Order')"
   ]
  },
  {
   "cell_type": "markdown",
   "metadata": {
    "id": "Cg6qA0Hk-n9x"
   },
   "source": [
    "## 15. **Monthly Revenue Growth**\n",
    "\n",
    "**Variables**: Date, Revenue  \n",
    "**Graph**: Bar Chart  \n",
    "**Question**: In what ways has revenue increased each month?  \n",
    "**Sample Answer**:  \n",
    "The revenue has increased steadily and modestly month over month.\n",
    "\n",
    "\n"
   ]
  },
  {
   "cell_type": "code",
   "execution_count": null,
   "metadata": {
    "colab": {
     "base_uri": "https://localhost:8080/",
     "height": 686
    },
    "id": "gDNNqmKD-g1k",
    "outputId": "698838e1-ed15-4a6e-c4ba-7c5c447a8e04"
   },
   "outputs": [],
   "source": [
    "import plotly.express as px\n",
    "import pandas as pd\n",
    "\n",
    "# Ensure 'Date' is in datetime format\n",
    "data_new['Date'] = pd.to_datetime(data_new['Date'])\n",
    "\n",
    "# Resample data to monthly and calculate total revenue\n",
    "monthly_revenue_growth = data_new.resample('M', on='Date')['revenue'].sum().reset_index()\n",
    "\n",
    "# Create the bar plot\n",
    "fig = px.bar(monthly_revenue_growth, x='Date', y='revenue',\n",
    "             title='Monthly Revenue Growth',\n",
    "             labels={'Date': 'Date', 'revenue': 'Revenue'},\n",
    "             height=600)\n",
    "\n",
    "# Update layout\n",
    "fig.update_layout(\n",
    "    xaxis_title='Date',\n",
    "    yaxis_title='Revenue',\n",
    "    yaxis_tickformat=',',\n",
    "    xaxis_tickformat='%b %Y'  # Format date as 'Mon Year'\n",
    ")\n",
    "\n",
    "# Adjust bar width\n",
    "fig.update_traces(marker_line_width=0, selector=dict(type=\"bar\"))\n",
    "\n",
    "# Show the plot\n",
    "fig.show()"
   ]
  },
  {
   "cell_type": "markdown",
   "metadata": {
    "id": "tpWbonHk_Qni"
   },
   "source": [
    "## 16. Click-Basket-Order Funnel Analysis\n",
    "\n",
    "**Variables**: Click, Basket, Order  \n",
    "**Graph**: Funnel Chart  \n",
    "**Question**: What is the click-to-order conversion rate?  \n",
    "\n",
    "**Sample Answer**:  \n",
    "From click to order, the conversion rate is roughly 26.2%.\n",
    "\n",
    "\n",
    "\n"
   ]
  },
  {
   "cell_type": "code",
   "execution_count": null,
   "metadata": {
    "colab": {
     "base_uri": "https://localhost:8080/",
     "height": 517
    },
    "id": "5xg9r3q5-6-j",
    "outputId": "ba9cdc9c-52b7-4f5c-b12f-f142410bf850"
   },
   "outputs": [],
   "source": [
    "import plotly.graph_objects as go\n",
    "import pandas as pd\n",
    "\n",
    "# Calculate funnel steps\n",
    "click_to_basket = (data_new['click'] + data_new['basket'] + data_new['order']).sum()\n",
    "basket_to_order = (data_new['basket'] + data_new['order']).sum()\n",
    "click_to_order = data_new['order'].sum()\n",
    "\n",
    "# Create funnel data\n",
    "funnel_data = pd.DataFrame({\n",
    "    'Step': ['Click', 'Basket', 'Order'],\n",
    "    'Count': [click_to_basket, basket_to_order, click_to_order]\n",
    "})\n",
    "\n",
    "# Calculate percentages\n",
    "total = funnel_data['Count'].max()\n",
    "funnel_data['Percentage'] = funnel_data['Count'] / total\n",
    "\n",
    "# Create the funnel chart\n",
    "fig = go.Figure(go.Funnel(\n",
    "    y = funnel_data['Step'],\n",
    "    x = funnel_data['Count'],\n",
    "    textinfo = \"value+percent initial\",\n",
    "    textposition = \"inside\",\n",
    "    textfont = dict(color = \"white\"),\n",
    "    opacity = 0.65,\n",
    "    marker = {\"color\": [\"deepskyblue\", \"lightsalmon\", \"tan\"],\n",
    "              \"line\": {\"width\": [4, 2, 2, 3, 1, 1], \"color\": [\"wheat\", \"wheat\", \"blue\", \"wheat\", \"wheat\"]}},\n",
    "    connector = {\"line\": {\"color\": \"royalblue\", \"dash\": \"dot\", \"width\": 3}}\n",
    "))\n",
    "\n",
    "# Update layout\n",
    "fig.update_layout(\n",
    "    title = 'Click-Basket-Order Analysis',\n",
    "    xaxis_title = 'Count',\n",
    "    yaxis_title = 'Step',\n",
    "    xaxis_tickformat = ',',\n",
    "    height = 500\n",
    ")\n",
    "\n",
    "# Show the plot\n",
    "fig.show()"
   ]
  },
  {
   "cell_type": "markdown",
   "metadata": {
    "id": "EU44UWFeADcO"
   },
   "source": [
    "## 17. **Revenue by Availability Status**\n",
    "\n",
    "**Variables**: Availability Status, Revenue  \n",
    "**Graph**: Bar Chart  \n",
    "**Question**:Which user groups provide the highest income?  \n",
    "**Sample Answer**:  \n",
    "Availability Status 1 made about 47% of the entire revenue, which was its largest contribution.\n"
   ]
  },
  {
   "cell_type": "code",
   "execution_count": null,
   "metadata": {
    "colab": {
     "base_uri": "https://localhost:8080/",
     "height": 517
    },
    "id": "XAQnVPle_tFR",
    "outputId": "0500e16d-d8c8-4abe-ae0a-90bc381e9ec4"
   },
   "outputs": [],
   "source": [
    "import plotly.express as px\n",
    "\n",
    "# Group the data by availability and calculate mean revenue\n",
    "availability_revenue = data_new.groupby('availability')['revenue'].mean().reset_index()\n",
    "\n",
    "# Create the bar plot\n",
    "fig = px.bar(availability_revenue, x='availability', y='revenue',\n",
    "             title='Revenue According to Availability',\n",
    "             labels={'availability': 'Availability Status', 'revenue': 'Average Revenue'},\n",
    "             height=500)\n",
    "\n",
    "# Update layout\n",
    "fig.update_layout(\n",
    "    xaxis_title='Availability Status',\n",
    "    yaxis_title='Average Revenue',\n",
    "    yaxis_tickformat=','\n",
    ")\n",
    "\n",
    "# Show the plot\n",
    "fig.show()\n"
   ]
  },
  {
   "cell_type": "markdown",
   "metadata": {
    "id": "5snhTE6zAdbt"
   },
   "source": [
    "## 18. **Seasonal Patterns in Revenue**\n",
    "\n",
    "**Variables**: Date, Revenue  \n",
    "**Graph**: Seasonal Decomposition Plot  \n",
    "**Question**: Does income follow any seasonal trends?  \n",
    "**Sample Answer**:  \n",
    "There is no seasonality in revenue."
   ]
  },
  {
   "cell_type": "code",
   "execution_count": null,
   "metadata": {
    "colab": {
     "base_uri": "https://localhost:8080/",
     "height": 517
    },
    "id": "MPD6wflyAVmX",
    "outputId": "6df57851-7d2d-4c09-8625-a81e2e0b6703"
   },
   "outputs": [],
   "source": [
    "\n",
    "# Ensure Date is in datetime format and extract month\n",
    "data_new['Date'] = pd.to_datetime(data_new['Date'])\n",
    "data_new['Month'] = data_new['Date'].dt.month\n",
    "\n",
    "# Group by month and sum revenue\n",
    "seasonal_revenue = data_new.groupby('Month')['revenue'].sum().reset_index()\n",
    "\n",
    "# Create the line plot\n",
    "fig = px.line(seasonal_revenue, x='Month', y='revenue',\n",
    "              title='Patterns in Revenue',\n",
    "              labels={'Month': 'Month', 'revenue': 'Revenue'},\n",
    "              height=500)\n",
    "\n",
    "# Update layout\n",
    "fig.update_layout(\n",
    "    xaxis_title='Month',\n",
    "    yaxis_title='Revenue',\n",
    "    yaxis_tickformat=',',\n",
    "    xaxis=dict(tickmode='array', tickvals=list(range(1, 13)), ticktext=['Jan', 'Feb', 'Mar', 'Apr', 'May', 'Jun', 'Jul', 'Aug', 'Sep', 'Oct', 'Nov', 'Dec'])\n",
    ")\n",
    "\n",
    "# Show the plot\n",
    "fig.show()"
   ]
  },
  {
   "cell_type": "markdown",
   "metadata": {
    "id": "ebddGOtuBIfV"
   },
   "source": [
    "## 19. **Impact of Advertisement on Revenue**\n",
    "\n",
    "**Variables**: Advertisement, Revenue  \n",
    "**Graph**: Box Plot  \n",
    "**Question**: Does Advertisement lead to higher revenue?  \n",
    "**Sample Answer**:  \n",
    "Advertising generally results in a higher median revenue. However, in the revenue range of 25 to 200, the absence of advertising is associated with greater revenue.\n"
   ]
  },
  {
   "cell_type": "code",
   "execution_count": null,
   "metadata": {
    "colab": {
     "background_save": true,
     "base_uri": "https://localhost:8080/"
    },
    "id": "-QaZzO6SAz7c",
    "outputId": "488fdcf3-4c7e-4fbe-9ec6-d19b3a0bbe33"
   },
   "outputs": [],
   "source": [
    "fig = px.box(data_new, x='adFlag', y='revenue',\n",
    "             title='Advertisement Impact on Revenue',\n",
    "             labels={'adFlag': 'Advertisement Flag', 'revenue': 'Revenue'},\n",
    "             height=500)\n",
    "\n",
    "fig.update_layout(\n",
    "    xaxis_title='Ad Flag',\n",
    "    yaxis_title='Revenue',\n",
    "    yaxis_tickformat=','\n",
    ")\n",
    "\n",
    "fig.show()"
   ]
  },
  {
   "cell_type": "markdown",
   "metadata": {
    "id": "wFs9iZgzBXP8"
   },
   "source": [
    "## 20. **Content (Number of Items) vs. Order Probability**\n",
    "\n",
    "**Variables**: Content, Basket, Order  \n",
    "**Graph**: Scatter Plot  \n",
    "**Question**: Does purchasing a larger number of items (bulk order) enhance the probability of placing an order?  \n",
    "**Sample Answer**:  \n",
    "It is not necessarily true that purchasing a greater number of items (bulk order) increases the chances of placing an order.\n"
   ]
  },
  {
   "cell_type": "code",
   "execution_count": null,
   "metadata": {
    "id": "-Le1kaVbBP5m"
   },
   "outputs": [],
   "source": [
    "\n",
    "fig = px.scatter(data_new, x='content', y='order', color='order',\n",
    "                 title='Content (number of items) vs. Order Probability',\n",
    "                 labels={'content': 'Content (number of items) in basket', 'order': 'Order Probability'},\n",
    "                 height=500)\n",
    "\n",
    "fig.update_layout(\n",
    "    xaxis_title='Content (number of items) in basket',\n",
    "    yaxis_title='Order Probability'\n",
    ")\n",
    "\n",
    "fig.show()"
   ]
  },
  {
   "cell_type": "markdown",
   "metadata": {
    "id": "Yb3-bR2WBkTi"
   },
   "source": [
    "## 21. **Day of the Week vs. Revenue**\n",
    "\n",
    "**Variables**: Day of the Week, Revenue  \n",
    "**Graph**: Box Plot  \n",
    "**Question**: Does the day of the week affect revenue?  \n",
    "**Sample Answer**:  \n",
    "The median revenue is generally higher on Sundays and Mondays compared to other days of the week.\n"
   ]
  },
  {
   "cell_type": "code",
   "execution_count": null,
   "metadata": {
    "id": "pV591aoFBeuI"
   },
   "outputs": [],
   "source": [
    "import plotly.express as px\n",
    "\n",
    "# Assuming you've already created the 'Day of Week' column\n",
    "data_new['Date'] = pd.to_datetime(data_new['Date'])\n",
    "data_new['Day of Week'] = data_new['Date'].dt.day_name()\n",
    "\n",
    "# Create the box plot\n",
    "fig = px.box(data_new, x='Day of Week', y='revenue',\n",
    "             title='Revenue vs Day of the Week ',\n",
    "             labels={'Day of Week': 'Day of Week', 'revenue': 'Revenue'},\n",
    "             height=500,\n",
    "             category_orders={'Day of Week': ['Monday', 'Tuesday', 'Wednesday', 'Thursday', 'Friday', 'Saturday', 'Sunday']})\n",
    "\n",
    "fig.update_layout(\n",
    "    xaxis_title='Day of Week',\n",
    "    yaxis_title='Revenue',\n",
    "    yaxis_tickformat=','\n",
    ")\n",
    "\n",
    "fig.show()"
   ]
  },
  {
   "cell_type": "markdown",
   "metadata": {
    "id": "RF9SKeVwB2_M"
   },
   "source": [
    "22. **Product Popularity by Category**\n",
    "\n",
    "Variables: Product Category, Click\n",
    "Graph: Bar chart\n",
    "Question: Which product categories are the most popular among users?\n",
    "Sample Answer: Category C products are the most popular.\n"
   ]
  },
  {
   "cell_type": "code",
   "execution_count": null,
   "metadata": {
    "id": "gU8gs3nXB9Xw"
   },
   "outputs": [],
   "source": [
    "features_null_values=[features for features in data_new.columns if data_new[features].isnull().sum()>1]\n",
    "for i in features_null_values:\n",
    "    print(i, np.round(data_new[i].isnull().mean()*100,4), '%missing values')"
   ]
  },
  {
   "cell_type": "code",
   "execution_count": null,
   "metadata": {
    "id": "OUUJ2bv83Q6C"
   },
   "outputs": [],
   "source": [
    "# Print catgorical columns and count of unique values in each column\n",
    "cat_cols = ['group','unit','pharmForm','salesIndex']\n",
    "cat_num_cols =  ['manufacturer','adFlag','availability', \"genericProduct\", 'category']\n",
    "for col in cat_cols+cat_num_cols:\n",
    "    print( \"Column: \", col , \"  | Count of Unique Values: \", data_new[col].nunique() , \"\\n ------------\" )"
   ]
  },
  {
   "cell_type": "code",
   "execution_count": null,
   "metadata": {
    "id": "oe3clxAv4RQc"
   },
   "outputs": [],
   "source": [
    "def convert_content_column_into_numbers(item):\n",
    "    try:\n",
    "        return float(item)\n",
    "    except:\n",
    "        # extract numbers seperated by alphabet (using regex)\n",
    "        import re\n",
    "        item = re.findall(r'\\d+\\.?\\d*', item)\n",
    "        # multiply the numbers to get the final number\n",
    "        final_number = 1\n",
    "        for i in item:\n",
    "            final_number = final_number*float(i)\n",
    "        return final_number\n",
    "\n",
    "data_new['content'] = data_new['content'].apply(convert_content_column_into_numbers)\n",
    "data_new['content'].head()"
   ]
  },
  {
   "cell_type": "code",
   "execution_count": null,
   "metadata": {
    "id": "cDhRiA4E4hap"
   },
   "outputs": [],
   "source": [
    "# Impute missing values in cat_num_cols categorical columns\n",
    "from sklearn.impute import SimpleImputer\n",
    "imputer = SimpleImputer( strategy='constant', fill_value=-1 )\n",
    "data_new[cat_num_cols] = imputer.fit_transform( data_new[cat_num_cols] )\n",
    "\n",
    "# convert the data type of cat_num_cols columns into integer\n",
    "data_new[cat_num_cols] = data_new[cat_num_cols].astype(int)\n",
    "data_new[cat_num_cols].head()"
   ]
  },
  {
   "cell_type": "code",
   "execution_count": null,
   "metadata": {
    "id": "H5eMC8G85TUa"
   },
   "outputs": [],
   "source": [
    "# Impute missing values in cat_cols categorical columns\n",
    "imputer = SimpleImputer( strategy='most_frequent' )\n",
    "data_new[cat_cols] = imputer.fit_transform( data_new[cat_cols] )\n",
    "data_new[cat_cols].head()"
   ]
  },
  {
   "cell_type": "code",
   "execution_count": null,
   "metadata": {
    "id": "TBrtCiId50Dq"
   },
   "outputs": [],
   "source": [
    "# Convert categorical features into numbers\n",
    "from sklearn.preprocessing import OrdinalEncoder\n",
    "import pickle\n",
    "\n",
    "for col in cat_cols:\n",
    "    encoder = OrdinalEncoder(handle_unknown='use_encoded_value', unknown_value=-1)\n",
    "    data_new[col] = encoder.fit_transform( data_new[[col]] )\n",
    "    pickle.dump( encoder, open( col+\"_encoder.pkl\", \"wb\" ) )\n",
    "\n",
    "data_new[cat_cols].head()"
   ]
  }
 ],
 "metadata": {
  "accelerator": "GPU",
  "colab": {
   "gpuType": "T4",
   "provenance": []
  },
  "kernelspec": {
   "display_name": "Python 3 (ipykernel)",
   "language": "python",
   "name": "python3"
  },
  "language_info": {
   "codemirror_mode": {
    "name": "ipython",
    "version": 3
   },
   "file_extension": ".py",
   "mimetype": "text/x-python",
   "name": "python",
   "nbconvert_exporter": "python",
   "pygments_lexer": "ipython3",
   "version": "3.12.7"
  }
 },
 "nbformat": 4,
 "nbformat_minor": 4
}
